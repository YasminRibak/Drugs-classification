{
 "cells": [
  {
   "cell_type": "markdown",
   "id": "df990e8d",
   "metadata": {},
   "source": [
    "# Drug classification "
   ]
  },
  {
   "cell_type": "markdown",
   "id": "95c9b146",
   "metadata": {},
   "source": [
    "This is a supervised classification problem. \n",
    "\n",
    "Given: data of patients who received different drugs.\n",
    "\n",
    "Goal: build a model to predict which drug would be suitable for a future patient. \n",
    "\n",
    "features: age, sex, blood presure levels (BP), cholesterol levels, Na to Potassium Ratio (Na_to_k)\n",
    "\n",
    "Target: Drug type"
   ]
  },
  {
   "cell_type": "markdown",
   "id": "12b734bf",
   "metadata": {},
   "source": [
    "## (1) importing libraries:"
   ]
  },
  {
   "cell_type": "code",
   "execution_count": 1,
   "id": "904b26a5",
   "metadata": {},
   "outputs": [],
   "source": [
    "import pandas as pd\n",
    "import numpy as np\n",
    "import matplotlib.pyplot as plt\n",
    "import seaborn as sns\n",
    "from sklearn.preprocessing import OrdinalEncoder     \n",
    "from sklearn.preprocessing import OneHotEncoder\n",
    "from sklearn.preprocessing import LabelEncoder\n",
    "\n",
    "from sklearn.model_selection import train_test_split\n",
    "\n",
    "from sklearn.metrics import mean_absolute_error\n",
    "\n",
    "from sklearn.neighbors import KNeighborsClassifier\n"
   ]
  },
  {
   "cell_type": "markdown",
   "id": "fae4d0df",
   "metadata": {},
   "source": [
    "## (2) importing data:"
   ]
  },
  {
   "cell_type": "code",
   "execution_count": 2,
   "id": "16e4329e",
   "metadata": {},
   "outputs": [],
   "source": [
    "Drugs_data=pd.read_csv(r'C:\\Users\\Yasmin\\Hamburg\\PYTHON\\Kaggle_dataset_drug classification\\archive\\drug200.csv')"
   ]
  },
  {
   "cell_type": "markdown",
   "id": "720721db",
   "metadata": {},
   "source": [
    "## (3) Exploratory Data Analysis:\n",
    "\n",
    "calling info. method for initial exploration of the data set:"
   ]
  },
  {
   "cell_type": "code",
   "execution_count": 3,
   "id": "d4a88962",
   "metadata": {},
   "outputs": [
    {
     "name": "stdout",
     "output_type": "stream",
     "text": [
      "<class 'pandas.core.frame.DataFrame'>\n",
      "RangeIndex: 200 entries, 0 to 199\n",
      "Data columns (total 6 columns):\n",
      " #   Column       Non-Null Count  Dtype  \n",
      "---  ------       --------------  -----  \n",
      " 0   Age          200 non-null    int64  \n",
      " 1   Sex          200 non-null    object \n",
      " 2   BP           200 non-null    object \n",
      " 3   Cholesterol  200 non-null    object \n",
      " 4   Na_to_K      200 non-null    float64\n",
      " 5   Drug         200 non-null    object \n",
      "dtypes: float64(1), int64(1), object(4)\n",
      "memory usage: 9.5+ KB\n",
      "None\n"
     ]
    }
   ],
   "source": [
    "print(Drugs_data.info())"
   ]
  },
  {
   "cell_type": "markdown",
   "id": "af6c576a",
   "metadata": {},
   "source": [
    "**- There are 5 features and a target.**<br>\n",
    "**- There are no missing values.**\n",
    "\n",
    "A glimpse of the data table:"
   ]
  },
  {
   "cell_type": "code",
   "execution_count": 4,
   "id": "35af23d2",
   "metadata": {},
   "outputs": [
    {
     "data": {
      "text/html": [
       "<div>\n",
       "<style scoped>\n",
       "    .dataframe tbody tr th:only-of-type {\n",
       "        vertical-align: middle;\n",
       "    }\n",
       "\n",
       "    .dataframe tbody tr th {\n",
       "        vertical-align: top;\n",
       "    }\n",
       "\n",
       "    .dataframe thead th {\n",
       "        text-align: right;\n",
       "    }\n",
       "</style>\n",
       "<table border=\"1\" class=\"dataframe\">\n",
       "  <thead>\n",
       "    <tr style=\"text-align: right;\">\n",
       "      <th></th>\n",
       "      <th>Age</th>\n",
       "      <th>Sex</th>\n",
       "      <th>BP</th>\n",
       "      <th>Cholesterol</th>\n",
       "      <th>Na_to_K</th>\n",
       "      <th>Drug</th>\n",
       "    </tr>\n",
       "  </thead>\n",
       "  <tbody>\n",
       "    <tr>\n",
       "      <th>0</th>\n",
       "      <td>23</td>\n",
       "      <td>F</td>\n",
       "      <td>HIGH</td>\n",
       "      <td>HIGH</td>\n",
       "      <td>25.355</td>\n",
       "      <td>DrugY</td>\n",
       "    </tr>\n",
       "    <tr>\n",
       "      <th>1</th>\n",
       "      <td>47</td>\n",
       "      <td>M</td>\n",
       "      <td>LOW</td>\n",
       "      <td>HIGH</td>\n",
       "      <td>13.093</td>\n",
       "      <td>drugC</td>\n",
       "    </tr>\n",
       "    <tr>\n",
       "      <th>2</th>\n",
       "      <td>47</td>\n",
       "      <td>M</td>\n",
       "      <td>LOW</td>\n",
       "      <td>HIGH</td>\n",
       "      <td>10.114</td>\n",
       "      <td>drugC</td>\n",
       "    </tr>\n",
       "    <tr>\n",
       "      <th>3</th>\n",
       "      <td>28</td>\n",
       "      <td>F</td>\n",
       "      <td>NORMAL</td>\n",
       "      <td>HIGH</td>\n",
       "      <td>7.798</td>\n",
       "      <td>drugX</td>\n",
       "    </tr>\n",
       "    <tr>\n",
       "      <th>4</th>\n",
       "      <td>61</td>\n",
       "      <td>F</td>\n",
       "      <td>LOW</td>\n",
       "      <td>HIGH</td>\n",
       "      <td>18.043</td>\n",
       "      <td>DrugY</td>\n",
       "    </tr>\n",
       "  </tbody>\n",
       "</table>\n",
       "</div>"
      ],
      "text/plain": [
       "   Age Sex      BP Cholesterol  Na_to_K   Drug\n",
       "0   23   F    HIGH        HIGH   25.355  DrugY\n",
       "1   47   M     LOW        HIGH   13.093  drugC\n",
       "2   47   M     LOW        HIGH   10.114  drugC\n",
       "3   28   F  NORMAL        HIGH    7.798  drugX\n",
       "4   61   F     LOW        HIGH   18.043  DrugY"
      ]
     },
     "execution_count": 4,
     "metadata": {},
     "output_type": "execute_result"
    }
   ],
   "source": [
    "Drugs_data.head()"
   ]
  },
  {
   "cell_type": "markdown",
   "id": "658a4a94",
   "metadata": {},
   "source": [
    "### I would like to explore the differente relationships between the features, in order to understand their relevance for analysis and target prediction. \n",
    "\n",
    "Let's start with the numerical features: Age and Na_to_K<bn><bn>"
   ]
  },
  {
   "cell_type": "code",
   "execution_count": 5,
   "id": "355ce95d",
   "metadata": {},
   "outputs": [
    {
     "data": {
      "image/png": "[encoded data removed]",
      "text/plain": [
       "<Figure size 426.625x360 with 6 Axes>"
      ]
     },
     "metadata": {
      "needs_background": "light"
     },
     "output_type": "display_data"
    }
   ],
   "source": [
    "sns.pairplot(Drugs_data,hue='Drug')\n",
    "plt.show()"
   ]
  },
  {
   "cell_type": "markdown",
   "id": "44ba60fd",
   "metadata": {},
   "source": [
    "**- There is an overlap between different drugs regarding Age. Age suitabilty as a drug prediction feature is not clear from this visualization**<br>\n",
    "**- It can be seen that patients with high Na_to_K received Drug Y. This is a good feature for prediction.**"
   ]
  },
  {
   "cell_type": "markdown",
   "id": "9ddb886b",
   "metadata": {},
   "source": [
    "### Age"
   ]
  },
  {
   "cell_type": "code",
   "execution_count": 6,
   "id": "5b618508",
   "metadata": {},
   "outputs": [
    {
     "name": "stdout",
     "output_type": "stream",
     "text": [
      "Drug\n",
      "DrugY    43.747253\n",
      "drugA    35.869565\n",
      "drugB    62.500000\n",
      "drugC    42.500000\n",
      "drugX    44.018519\n",
      "Name: Age, dtype: float64 \n",
      "\n"
     ]
    },
    {
     "data": {
      "image/png": "[encoded data removed]",
      "text/plain": [
       "<Figure size 432x288 with 1 Axes>"
      ]
     },
     "metadata": {
      "needs_background": "light"
     },
     "output_type": "display_data"
    },
    {
     "data": {
      "image/png": "[encoded data removed]",
      "text/plain": [
       "<Figure size 432x288 with 1 Axes>"
      ]
     },
     "metadata": {
      "needs_background": "light"
     },
     "output_type": "display_data"
    }
   ],
   "source": [
    "print(Drugs_data.groupby(['Drug'])['Age'].mean(),'\\n')\n",
    "sns.boxplot(x=\"Drug\",y=\"Age\",data=Drugs_data,showmeans=True,\n",
    "            meanprops={\"marker\":\"o\",\"markerfacecolor\":\"yellow\",\"markeredgecolor\":\"black\",\"markersize\":\"8\"})\n",
    "plt.show()\n",
    "sns.histplot(data=Drugs_data,x='Age',bins=10)\n",
    "plt.show()"
   ]
  },
  {
   "cell_type": "markdown",
   "id": "b4e2b4ad",
   "metadata": {},
   "source": [
    "- It can be seen that older patients were given Drug B.\n",
    "- Age is ditributed quite homogenous among patients.\n",
    "\n",
    "- no major outliers."
   ]
  },
  {
   "cell_type": "markdown",
   "id": "ad27f356",
   "metadata": {},
   "source": [
    "### Na_to_K"
   ]
  },
  {
   "cell_type": "code",
   "execution_count": 7,
   "id": "4c57956c",
   "metadata": {},
   "outputs": [
    {
     "data": {
      "image/png": "[encoded data removed]",
      "text/plain": [
       "<Figure size 432x288 with 1 Axes>"
      ]
     },
     "metadata": {
      "needs_background": "light"
     },
     "output_type": "display_data"
    },
    {
     "data": {
      "image/png": "[encoded data removed]",
      "text/plain": [
       "<Figure size 432x288 with 1 Axes>"
      ]
     },
     "metadata": {
      "needs_background": "light"
     },
     "output_type": "display_data"
    }
   ],
   "source": [
    "sns.histplot(data=Drugs_data,x='Na_to_K',bins=10)\n",
    "plt.show()\n",
    "sns.boxplot(x=\"Drug\",y=\"Na_to_K\",data=Drugs_data,showmeans=True,\n",
    "            meanprops={\"marker\":\"o\",\"markerfacecolor\":\"yellow\",\"markeredgecolor\":\"black\",\"markersize\":\"8\"})\n",
    "plt.show()"
   ]
  },
  {
   "cell_type": "markdown",
   "id": "3207b699",
   "metadata": {},
   "source": [
    "- It can be seen that Drug Y was given to patients with higher Na_to_k ratio. \n",
    "- no major outliers.\n",
    "-  is left skewed?"
   ]
  },
  {
   "cell_type": "markdown",
   "id": "262fcef7",
   "metadata": {},
   "source": [
    "### BP"
   ]
  },
  {
   "cell_type": "code",
   "execution_count": 8,
   "id": "ce36676f",
   "metadata": {},
   "outputs": [
    {
     "data": {
      "image/png": "[encoded data removed]",
      "text/plain": [
       "<Figure size 432x288 with 1 Axes>"
      ]
     },
     "metadata": {
      "needs_background": "light"
     },
     "output_type": "display_data"
    },
    {
     "data": {
      "image/png": "[encoded data removed]",
      "text/plain": [
       "<Figure size 432x288 with 1 Axes>"
      ]
     },
     "metadata": {
      "needs_background": "light"
     },
     "output_type": "display_data"
    }
   ],
   "source": [
    "sns.countplot(x=Drugs_data['BP'])\n",
    "plt.show()\n",
    "sns.countplot(data=Drugs_data,x='Drug',hue='BP')\n",
    "plt.legend(loc='upper right')\n",
    "plt.show()"
   ]
  },
  {
   "cell_type": "markdown",
   "id": "312d63fd",
   "metadata": {},
   "source": [
    "- Drug C was given only to patients with low BP\n",
    "- Drugs A,B were given only to patients with High BP"
   ]
  },
  {
   "cell_type": "markdown",
   "id": "87b0766b",
   "metadata": {},
   "source": [
    "### Cholesterol"
   ]
  },
  {
   "cell_type": "code",
   "execution_count": 9,
   "id": "94e85d9e",
   "metadata": {},
   "outputs": [
    {
     "data": {
      "image/png": "[encoded data removed]",
      "text/plain": [
       "<Figure size 432x288 with 1 Axes>"
      ]
     },
     "metadata": {
      "needs_background": "light"
     },
     "output_type": "display_data"
    },
    {
     "data": {
      "image/png": "[encoded data removed]",
      "text/plain": [
       "<Figure size 432x288 with 1 Axes>"
      ]
     },
     "metadata": {
      "needs_background": "light"
     },
     "output_type": "display_data"
    }
   ],
   "source": [
    "sns.countplot(x=Drugs_data['Cholesterol'])\n",
    "plt.show()\n",
    "sns.countplot(data=Drugs_data,x='Drug',hue='Cholesterol')\n",
    "plt.legend(loc='upper right')\n",
    "plt.show()"
   ]
  },
  {
   "cell_type": "markdown",
   "id": "189a3ce7",
   "metadata": {},
   "source": [
    "- Drug C was given only to patients with High Cholesterol"
   ]
  },
  {
   "cell_type": "markdown",
   "id": "baf4281d",
   "metadata": {},
   "source": [
    "### 'Sex' feature  "
   ]
  },
  {
   "cell_type": "code",
   "execution_count": 10,
   "id": "74360c65",
   "metadata": {},
   "outputs": [
    {
     "name": "stdout",
     "output_type": "stream",
     "text": [
      "M    0.52\n",
      "F    0.48\n",
      "Name: Sex, dtype: float64\n"
     ]
    },
    {
     "data": {
      "image/png": "[encoded data removed]",
      "text/plain": [
       "<Figure size 432x288 with 1 Axes>"
      ]
     },
     "metadata": {
      "needs_background": "light"
     },
     "output_type": "display_data"
    }
   ],
   "source": [
    "print(Drugs_data.Sex.value_counts(normalize=True))\n",
    "sns.countplot(x=Drugs_data['Sex'])\n",
    "plt.show()"
   ]
  },
  {
   "cell_type": "markdown",
   "id": "cd82d91b",
   "metadata": {},
   "source": [
    "- male and female patients are evenly represented. "
   ]
  },
  {
   "cell_type": "markdown",
   "id": "f6fabc3a",
   "metadata": {},
   "source": [
    "**I will use previous plots to examine 'Sex' feature as a prediction feature**"
   ]
  },
  {
   "cell_type": "code",
   "execution_count": 11,
   "id": "d9d68e6d",
   "metadata": {},
   "outputs": [
    {
     "data": {
      "image/png": "[encoded data removed]",
      "text/plain": [
       "<Figure size 648x504 with 4 Axes>"
      ]
     },
     "metadata": {
      "needs_background": "light"
     },
     "output_type": "display_data"
    }
   ],
   "source": [
    "fig, axes = plt.subplots(2,2,figsize=(9,7))\n",
    "sns.countplot(x=Drugs_data['BP'],hue=Drugs_data['Sex'],ax=axes[0,0])\n",
    "sns.countplot(x=Drugs_data['Cholesterol'],hue=Drugs_data['Sex'],ax=axes[0,1])\n",
    "sns.boxplot(x=\"Drug\",y=\"Na_to_K\",data=Drugs_data,hue='Sex',showmeans=True,\n",
    "            meanprops={\"marker\":\"o\",\"markerfacecolor\":\"yellow\",\"markeredgecolor\":\"black\",\"markersize\":\"8\"},ax=axes[1,0])\n",
    "sns.boxplot(x=\"Drug\",y=\"Age\",data=Drugs_data,hue='Sex',showmeans=True,\n",
    "            meanprops={\"marker\":\"o\",\"markerfacecolor\":\"yellow\",\"markeredgecolor\":\"black\",\"markersize\":\"8\"},ax=axes[1,1])\n",
    "fig.tight_layout(pad=4.0)\n",
    "\n",
    "plt.show()"
   ]
  },
  {
   "cell_type": "markdown",
   "id": "7a914a04",
   "metadata": {},
   "source": [
    "- Although 'Sex' is evenly represented in the data, there is no noticable difference in drug type which is associated with sex."
   ]
  },
  {
   "cell_type": "markdown",
   "id": "3c10ad47",
   "metadata": {},
   "source": [
    "## Exploring target feature 'Drug':"
   ]
  },
  {
   "cell_type": "code",
   "execution_count": 12,
   "id": "be3e24e9",
   "metadata": {},
   "outputs": [
    {
     "data": {
      "image/png": "[encoded data removed]",
      "text/plain": [
       "<Figure size 432x288 with 1 Axes>"
      ]
     },
     "metadata": {
      "needs_background": "light"
     },
     "output_type": "display_data"
    }
   ],
   "source": [
    "sns.histplot(data=Drugs_data,x='Drug',hue='Drug')\n",
    "plt.show()"
   ]
  },
  {
   "cell_type": "code",
   "execution_count": 13,
   "id": "17719297",
   "metadata": {},
   "outputs": [
    {
     "data": {
      "text/plain": [
       "DrugY    0.455\n",
       "drugX    0.270\n",
       "drugA    0.115\n",
       "drugC    0.080\n",
       "drugB    0.080\n",
       "Name: Drug, dtype: float64"
      ]
     },
     "execution_count": 13,
     "metadata": {},
     "output_type": "execute_result"
    }
   ],
   "source": [
    "Drugs_data.Drug.value_counts(normalize=True)"
   ]
  },
  {
   "cell_type": "markdown",
   "id": "bb00a59d",
   "metadata": {},
   "source": [
    "- Target variable is left skewed"
   ]
  },
  {
   "cell_type": "markdown",
   "id": "b99cdf40",
   "metadata": {},
   "source": [
    "## EDA conclusions:\n",
    "- There are no missing values.\n",
    "- 2 numerical columns: 'Age', 'Na_to_K'\n",
    "- 3 categorical columns: nominal: 'Sex',  ordinal: 'BP', 'Cholesterol'\n",
    "- Target 'Drug' is categorical (nominal).\n",
    "\n",
    "Sex:<br>\n",
    "No noticable difference in drug type which is associated with feature 'sex'. Hence it might be not relevant for prediction.<br><br><br>\n",
    "The following features seems to be good features for prediction: <br><br>\n",
    "Age: <br>\n",
    "Drug B was mostly given to older patients. <br><br>\n",
    "<br>\n",
    "Blood pressure: <br>\n",
    "Drugs A and B were more appropriate for patiens with high BP.<br>\n",
    "Drug C was more appropriate for patiens with low BP.<br><br>\n",
    "Cholesterol:<br>\n",
    "Drug C was more appropriate for patiens with high cholesterol.<br><br>\n",
    "Na_to_K:<br>\n",
    "Drug Y was more appropriate for patiens with high Na_to_K"
   ]
  },
  {
   "cell_type": "code",
   "execution_count": 14,
   "id": "a9bb2c69",
   "metadata": {},
   "outputs": [
    {
     "data": {
      "text/html": [
       "<div>\n",
       "<style scoped>\n",
       "    .dataframe tbody tr th:only-of-type {\n",
       "        vertical-align: middle;\n",
       "    }\n",
       "\n",
       "    .dataframe tbody tr th {\n",
       "        vertical-align: top;\n",
       "    }\n",
       "\n",
       "    .dataframe thead th {\n",
       "        text-align: right;\n",
       "    }\n",
       "</style>\n",
       "<table border=\"1\" class=\"dataframe\">\n",
       "  <thead>\n",
       "    <tr style=\"text-align: right;\">\n",
       "      <th></th>\n",
       "      <th>Age</th>\n",
       "      <th>Sex</th>\n",
       "      <th>BP</th>\n",
       "      <th>Cholesterol</th>\n",
       "      <th>Na_to_K</th>\n",
       "      <th>Drug</th>\n",
       "    </tr>\n",
       "  </thead>\n",
       "  <tbody>\n",
       "    <tr>\n",
       "      <th>0</th>\n",
       "      <td>23</td>\n",
       "      <td>F</td>\n",
       "      <td>HIGH</td>\n",
       "      <td>HIGH</td>\n",
       "      <td>25.355</td>\n",
       "      <td>DrugY</td>\n",
       "    </tr>\n",
       "    <tr>\n",
       "      <th>1</th>\n",
       "      <td>47</td>\n",
       "      <td>M</td>\n",
       "      <td>LOW</td>\n",
       "      <td>HIGH</td>\n",
       "      <td>13.093</td>\n",
       "      <td>drugC</td>\n",
       "    </tr>\n",
       "    <tr>\n",
       "      <th>2</th>\n",
       "      <td>47</td>\n",
       "      <td>M</td>\n",
       "      <td>LOW</td>\n",
       "      <td>HIGH</td>\n",
       "      <td>10.114</td>\n",
       "      <td>drugC</td>\n",
       "    </tr>\n",
       "    <tr>\n",
       "      <th>3</th>\n",
       "      <td>28</td>\n",
       "      <td>F</td>\n",
       "      <td>NORMAL</td>\n",
       "      <td>HIGH</td>\n",
       "      <td>7.798</td>\n",
       "      <td>drugX</td>\n",
       "    </tr>\n",
       "    <tr>\n",
       "      <th>4</th>\n",
       "      <td>61</td>\n",
       "      <td>F</td>\n",
       "      <td>LOW</td>\n",
       "      <td>HIGH</td>\n",
       "      <td>18.043</td>\n",
       "      <td>DrugY</td>\n",
       "    </tr>\n",
       "  </tbody>\n",
       "</table>\n",
       "</div>"
      ],
      "text/plain": [
       "   Age Sex      BP Cholesterol  Na_to_K   Drug\n",
       "0   23   F    HIGH        HIGH   25.355  DrugY\n",
       "1   47   M     LOW        HIGH   13.093  drugC\n",
       "2   47   M     LOW        HIGH   10.114  drugC\n",
       "3   28   F  NORMAL        HIGH    7.798  drugX\n",
       "4   61   F     LOW        HIGH   18.043  DrugY"
      ]
     },
     "execution_count": 14,
     "metadata": {},
     "output_type": "execute_result"
    }
   ],
   "source": [
    "Drugs_data.head()"
   ]
  },
  {
   "cell_type": "markdown",
   "id": "427e7853",
   "metadata": {},
   "source": [
    "## Preparing data sets and target"
   ]
  },
  {
   "cell_type": "markdown",
   "id": "c4034c37",
   "metadata": {},
   "source": [
    "Splitting the data set into training set and test set:"
   ]
  },
  {
   "cell_type": "code",
   "execution_count": 15,
   "id": "d4769f94",
   "metadata": {},
   "outputs": [],
   "source": [
    "y=Drugs_data.Drug  \n",
    "Drugs_data=Drugs_data.drop('Drug',axis=1)\n",
    "x_train,x_test,y_train,y_test=train_test_split(Drugs_data,y,train_size=0.6,random_state=0)"
   ]
  },
  {
   "cell_type": "markdown",
   "id": "99841d62",
   "metadata": {},
   "source": [
    "## Data types: "
   ]
  },
  {
   "cell_type": "markdown",
   "id": "bcb960ae",
   "metadata": {},
   "source": [
    "**preparing numerical and categorical columns for encoding:**"
   ]
  },
  {
   "cell_type": "code",
   "execution_count": 16,
   "id": "a514b97f",
   "metadata": {},
   "outputs": [
    {
     "name": "stdout",
     "output_type": "stream",
     "text": [
      "Numerical cols: Index(['Age', 'Na_to_K'], dtype='object')\n"
     ]
    }
   ],
   "source": [
    "numerical_cols= Drugs_data.select_dtypes(['int64','float64'])\n",
    "print('Numerical cols:',numerical_cols.columns)"
   ]
  },
  {
   "cell_type": "markdown",
   "id": "aa5678d2",
   "metadata": {},
   "source": [
    "Categorical columns and unique values:"
   ]
  },
  {
   "cell_type": "code",
   "execution_count": 17,
   "id": "7bd3425f",
   "metadata": {},
   "outputs": [
    {
     "name": "stdout",
     "output_type": "stream",
     "text": [
      "Sex  :  ['F' 'M']\n",
      "BP  :  ['HIGH' 'LOW' 'NORMAL']\n",
      "Cholesterol  :  ['HIGH' 'NORMAL']\n"
     ]
    }
   ],
   "source": [
    "categorical_cols=Drugs_data.select_dtypes(['object'])\n",
    "for col in list(categorical_cols.columns):\n",
    "    print(col,' : ',categorical_cols[col].unique()) "
   ]
  },
  {
   "cell_type": "markdown",
   "id": "254ad14d",
   "metadata": {},
   "source": [
    "**Seperating nominal and ordinal columns. train set and test set are handeled seperately!**"
   ]
  },
  {
   "cell_type": "code",
   "execution_count": 18,
   "id": "10cbbfe4",
   "metadata": {},
   "outputs": [],
   "source": [
    "# train set:\n",
    "train_nominal=x_train.Sex\n",
    "train_ordinal=x_train[['BP','Cholesterol']]\n",
    "# test set: \n",
    "test_nominal=x_test.Sex\n",
    "test_ordinal=x_test[['BP','Cholesterol']]"
   ]
  },
  {
   "cell_type": "code",
   "execution_count": 19,
   "id": "76b5a9b1",
   "metadata": {},
   "outputs": [
    {
     "name": "stdout",
     "output_type": "stream",
     "text": [
      "(120,)\n",
      "(120, 2)\n",
      "(80,)\n",
      "(80, 2)\n"
     ]
    }
   ],
   "source": [
    "print(train_nominal.shape)\n",
    "print(train_ordinal.shape)\n",
    "print(test_nominal.shape)\n",
    "print(test_ordinal.shape)"
   ]
  },
  {
   "cell_type": "markdown",
   "id": "b910f8a9",
   "metadata": {},
   "source": [
    "In order to use sklearn algorithms, train_nominal and test_nominal need to be reshaped."
   ]
  },
  {
   "cell_type": "code",
   "execution_count": 20,
   "id": "6a9a74a2",
   "metadata": {},
   "outputs": [],
   "source": [
    "train_nominal=np.array(train_nominal).reshape(-1,1)\n",
    "test_nominal=np.array(test_nominal).reshape(-1,1)"
   ]
  },
  {
   "cell_type": "code",
   "execution_count": 21,
   "id": "ee202bb7",
   "metadata": {},
   "outputs": [
    {
     "name": "stdout",
     "output_type": "stream",
     "text": [
      "(120, 1)\n",
      "(80, 1)\n"
     ]
    }
   ],
   "source": [
    "print(train_nominal.shape)\n",
    "print(test_nominal.shape)"
   ]
  },
  {
   "cell_type": "markdown",
   "id": "0e614684",
   "metadata": {},
   "source": [
    "## Encoding"
   ]
  },
  {
   "cell_type": "markdown",
   "id": "755111b0",
   "metadata": {},
   "source": [
    "Encoding the nominal feature 'Sex': "
   ]
  },
  {
   "cell_type": "code",
   "execution_count": 22,
   "id": "3dded1b9",
   "metadata": {},
   "outputs": [],
   "source": [
    "OHencoder=OneHotEncoder(handle_unknown='ignore', sparse=False)\n",
    "OHencoder.fit(train_nominal)\n",
    "train_nominal_encoded=pd.DataFrame(OHencoder.transform(train_nominal))\n",
    "test_nominal_encoded=pd.DataFrame(OHencoder.transform(test_nominal))"
   ]
  },
  {
   "cell_type": "markdown",
   "id": "055aba82",
   "metadata": {},
   "source": [
    "As can be seen below, feature 'Sex' is now appears as 2 columns, but the names are not clear. "
   ]
  },
  {
   "cell_type": "code",
   "execution_count": 23,
   "id": "1d5b014e",
   "metadata": {},
   "outputs": [
    {
     "name": "stdout",
     "output_type": "stream",
     "text": [
      "     0    1\n",
      "0  0.0  1.0\n",
      "1  1.0  0.0\n",
      "2  0.0  1.0\n",
      "3  1.0  0.0\n",
      "4  0.0  1.0 \n",
      "\n",
      "     0    1\n",
      "0  0.0  1.0\n",
      "1  1.0  0.0\n",
      "2  0.0  1.0\n",
      "3  0.0  1.0\n",
      "4  0.0  1.0\n"
     ]
    }
   ],
   "source": [
    "print(train_nominal_encoded.head(),'\\n')\n",
    "print(test_nominal_encoded.head())"
   ]
  },
  {
   "cell_type": "markdown",
   "id": "40fd1575",
   "metadata": {},
   "source": [
    "I will use 'get_feature_names_out' attribute:"
   ]
  },
  {
   "cell_type": "code",
   "execution_count": 24,
   "id": "e640e59a",
   "metadata": {},
   "outputs": [
    {
     "name": "stdout",
     "output_type": "stream",
     "text": [
      "   Sex_F  Sex_M\n",
      "0    0.0    1.0\n",
      "1    1.0    0.0\n",
      "2    0.0    1.0\n",
      "3    1.0    0.0\n",
      "4    0.0    1.0 \n",
      "\n",
      "   Sex_F  Sex_M\n",
      "0    0.0    1.0\n",
      "1    1.0    0.0\n",
      "2    0.0    1.0\n",
      "3    0.0    1.0\n",
      "4    0.0    1.0\n"
     ]
    }
   ],
   "source": [
    "train_nominal_encoded.columns=OHencoder.get_feature_names_out(['Sex'])\n",
    "test_nominal_encoded.columns=OHencoder.get_feature_names_out(['Sex'])\n",
    "print(train_nominal_encoded.head(),'\\n')\n",
    "print(test_nominal_encoded.head())"
   ]
  },
  {
   "cell_type": "markdown",
   "id": "63d92ad5",
   "metadata": {},
   "source": [
    "**Encoding the ordinal features:** <br> The default is numbering the categories alphabetically, which is not right for this case (because order matters). <br> So I will use the 'categories' parameter of the OrdinalEncoder"
   ]
  },
  {
   "cell_type": "code",
   "execution_count": 25,
   "id": "db36bd22",
   "metadata": {},
   "outputs": [],
   "source": [
    "ORencoder=OrdinalEncoder(categories=[['LOW','NORMAL','HIGH'],['NORMAL','HIGH']])\n",
    "ORencoder.fit(train_ordinal)\n",
    "train_ordinal_encoded=pd.DataFrame(ORencoder.transform(train_ordinal))\n",
    "test_ordinal_encoded=pd.DataFrame(ORencoder.transform(test_ordinal))"
   ]
  },
  {
   "cell_type": "code",
   "execution_count": 26,
   "id": "39e0db48",
   "metadata": {},
   "outputs": [
    {
     "name": "stdout",
     "output_type": "stream",
     "text": [
      "     0    1\n",
      "0  2.0  1.0\n",
      "1  2.0  1.0\n",
      "2  2.0  0.0\n",
      "3  0.0  1.0\n",
      "4  2.0  0.0 \n",
      "\n",
      "     0    1\n",
      "0  0.0  1.0\n",
      "1  1.0  1.0\n",
      "2  0.0  1.0\n",
      "3  2.0  0.0\n",
      "4  1.0  1.0\n"
     ]
    }
   ],
   "source": [
    "print(train_ordinal_encoded.head(),'\\n')\n",
    "print(test_ordinal_encoded.head())"
   ]
  },
  {
   "cell_type": "markdown",
   "id": "74170197",
   "metadata": {},
   "source": [
    "As above, to have clear names for the columns, I will use 'feature_names_in_' attribute:"
   ]
  },
  {
   "cell_type": "code",
   "execution_count": 27,
   "id": "9d81c367",
   "metadata": {},
   "outputs": [
    {
     "name": "stdout",
     "output_type": "stream",
     "text": [
      "    BP  Cholesterol\n",
      "0  2.0          1.0\n",
      "1  2.0          1.0\n",
      "2  2.0          0.0\n",
      "3  0.0          1.0\n",
      "4  2.0          0.0 \n",
      "\n",
      "    BP  Cholesterol\n",
      "0  0.0          1.0\n",
      "1  1.0          1.0\n",
      "2  0.0          1.0\n",
      "3  2.0          0.0\n",
      "4  1.0          1.0\n"
     ]
    }
   ],
   "source": [
    "train_ordinal_encoded.columns=ORencoder.feature_names_in_\n",
    "test_ordinal_encoded.columns=ORencoder.feature_names_in_\n",
    "print(train_ordinal_encoded.head(),'\\n')\n",
    "print(test_ordinal_encoded.head())"
   ]
  },
  {
   "cell_type": "markdown",
   "id": "8979031d",
   "metadata": {},
   "source": [
    "**Next step is to create a full data set which is ready for prediction: numerical + ordinal + nominal features.**<br> steps are as follows:<br> \n",
    "- drop original categoical columns.\n",
    "- concatenate with the encoded columns."
   ]
  },
  {
   "cell_type": "markdown",
   "id": "a2038714",
   "metadata": {},
   "source": [
    "Drop:"
   ]
  },
  {
   "cell_type": "code",
   "execution_count": 28,
   "id": "ec5e2f62",
   "metadata": {},
   "outputs": [],
   "source": [
    "x_train_encoded=x_train.drop(categorical_cols.columns,axis=1)\n",
    "x_test_encoded=x_test.drop(categorical_cols.columns,axis=1)"
   ]
  },
  {
   "cell_type": "markdown",
   "id": "6791fd97",
   "metadata": {},
   "source": [
    "Let's have a look at the different DF which are about to be concatenated:"
   ]
  },
  {
   "cell_type": "markdown",
   "id": "93fbd2b4",
   "metadata": {},
   "source": [
    "Train set:"
   ]
  },
  {
   "cell_type": "code",
   "execution_count": 29,
   "id": "4cdb3e17",
   "metadata": {},
   "outputs": [
    {
     "name": "stdout",
     "output_type": "stream",
     "text": [
      "     Age  Na_to_K\n",
      "187   47   10.403\n",
      "46    37   13.091\n",
      "138   51   11.343\n",
      "195   56   11.567\n",
      "108   72    9.677 \n",
      "\n",
      "   Sex_F  Sex_M\n",
      "0    0.0    1.0\n",
      "1    1.0    0.0\n",
      "2    0.0    1.0\n",
      "3    1.0    0.0\n",
      "4    0.0    1.0 \n",
      "\n",
      "    BP  Cholesterol\n",
      "0  2.0          1.0\n",
      "1  2.0          1.0\n",
      "2  2.0          0.0\n",
      "3  0.0          1.0\n",
      "4  2.0          0.0\n"
     ]
    }
   ],
   "source": [
    "print(x_train_encoded.head(),'\\n')\n",
    "print(train_nominal_encoded.head(),'\\n')\n",
    "print(train_ordinal_encoded.head())"
   ]
  },
  {
   "cell_type": "markdown",
   "id": "36062bb7",
   "metadata": {},
   "source": [
    "Since the indices are different, 'reset_index' method will be used, and all 3 DF will be cocatenated:"
   ]
  },
  {
   "cell_type": "code",
   "execution_count": 30,
   "id": "e22d7d97",
   "metadata": {},
   "outputs": [],
   "source": [
    "x_train_encoded=pd.concat([x_train_encoded.reset_index(),train_nominal_encoded,train_ordinal_encoded],axis=1)"
   ]
  },
  {
   "cell_type": "markdown",
   "id": "af4ca2ea",
   "metadata": {},
   "source": [
    "Test set:"
   ]
  },
  {
   "cell_type": "code",
   "execution_count": 31,
   "id": "eeab9800",
   "metadata": {},
   "outputs": [],
   "source": [
    "x_test_encoded=pd.concat([x_test_encoded.reset_index(),test_nominal_encoded,test_ordinal_encoded],axis=1)"
   ]
  },
  {
   "cell_type": "code",
   "execution_count": 32,
   "id": "b8a894d5",
   "metadata": {},
   "outputs": [
    {
     "name": "stdout",
     "output_type": "stream",
     "text": [
      "   index  Age  Na_to_K  Sex_F  Sex_M   BP  Cholesterol\n",
      "0    187   47   10.403    0.0    1.0  2.0          1.0\n",
      "1     46   37   13.091    1.0    0.0  2.0          1.0\n",
      "2    138   51   11.343    0.0    1.0  2.0          0.0\n",
      "3    195   56   11.567    1.0    0.0  0.0          1.0\n",
      "4    108   72    9.677    0.0    1.0  2.0          0.0 \n",
      "\n",
      "   index  Age  Na_to_K  Sex_F  Sex_M   BP  Cholesterol\n",
      "0     18   23    7.298    0.0    1.0  0.0          1.0\n",
      "1    170   28   12.879    1.0    0.0  1.0          1.0\n",
      "2    107   42   20.013    0.0    1.0  0.0          1.0\n",
      "3     98   20   35.639    0.0    1.0  2.0          0.0\n",
      "4    177   25   19.011    0.0    1.0  1.0          1.0\n"
     ]
    }
   ],
   "source": [
    "print(x_train_encoded.head(),'\\n')\n",
    "print(x_test_encoded.head())"
   ]
  },
  {
   "cell_type": "code",
   "execution_count": 33,
   "id": "9a5aa7e5",
   "metadata": {},
   "outputs": [
    {
     "name": "stdout",
     "output_type": "stream",
     "text": [
      "index          0\n",
      "Age            0\n",
      "Na_to_K        0\n",
      "Sex_F          0\n",
      "Sex_M          0\n",
      "BP             0\n",
      "Cholesterol    0\n",
      "dtype: int64 \n",
      "\n",
      "<class 'pandas.core.frame.DataFrame'>\n",
      "RangeIndex: 120 entries, 0 to 119\n",
      "Data columns (total 7 columns):\n",
      " #   Column       Non-Null Count  Dtype  \n",
      "---  ------       --------------  -----  \n",
      " 0   index        120 non-null    int64  \n",
      " 1   Age          120 non-null    int64  \n",
      " 2   Na_to_K      120 non-null    float64\n",
      " 3   Sex_F        120 non-null    float64\n",
      " 4   Sex_M        120 non-null    float64\n",
      " 5   BP           120 non-null    float64\n",
      " 6   Cholesterol  120 non-null    float64\n",
      "dtypes: float64(5), int64(2)\n",
      "memory usage: 6.7 KB\n",
      "None \n",
      "\n",
      "index          0\n",
      "Age            0\n",
      "Na_to_K        0\n",
      "Sex_F          0\n",
      "Sex_M          0\n",
      "BP             0\n",
      "Cholesterol    0\n",
      "dtype: int64\n",
      "<class 'pandas.core.frame.DataFrame'>\n",
      "RangeIndex: 80 entries, 0 to 79\n",
      "Data columns (total 7 columns):\n",
      " #   Column       Non-Null Count  Dtype  \n",
      "---  ------       --------------  -----  \n",
      " 0   index        80 non-null     int64  \n",
      " 1   Age          80 non-null     int64  \n",
      " 2   Na_to_K      80 non-null     float64\n",
      " 3   Sex_F        80 non-null     float64\n",
      " 4   Sex_M        80 non-null     float64\n",
      " 5   BP           80 non-null     float64\n",
      " 6   Cholesterol  80 non-null     float64\n",
      "dtypes: float64(5), int64(2)\n",
      "memory usage: 4.5 KB\n",
      "None\n"
     ]
    }
   ],
   "source": [
    "print(x_train_encoded.isnull().sum(),'\\n')\n",
    "print(x_train_encoded.info(),'\\n')\n",
    "print(x_test_encoded.isnull().sum())\n",
    "\n",
    "print(x_test_encoded.info())"
   ]
  },
  {
   "cell_type": "markdown",
   "id": "fd2e2165",
   "metadata": {},
   "source": [
    "### Next steps:<br>\n",
    "- Target encoding\n",
    "- Choosing a model for predictions.\n",
    "- Error evaluation."
   ]
  }
 ],
 "metadata": {
  "kernelspec": {
   "display_name": "Python 3 (ipykernel)",
   "language": "python",
   "name": "python3"
  },
  "language_info": {
   "codemirror_mode": {
    "name": "ipython",
    "version": 3
   },
   "file_extension": ".py",
   "mimetype": "text/x-python",
   "name": "python",
   "nbconvert_exporter": "python",
   "pygments_lexer": "ipython3",
   "version": "3.9.12"
  }
 },
 "nbformat": 4,
 "nbformat_minor": 5
}
